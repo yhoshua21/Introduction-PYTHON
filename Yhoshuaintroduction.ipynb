{
  "nbformat": 4,
  "nbformat_minor": 0,
  "metadata": {
    "colab": {
      "provenance": [],
      "toc_visible": true,
      "authorship_tag": "ABX9TyN/NvgSej8ZijxW4TLntvaM",
      "include_colab_link": true
    },
    "kernelspec": {
      "name": "python3",
      "display_name": "Python 3"
    },
    "language_info": {
      "name": "python"
    }
  },
  "cells": [
    {
      "cell_type": "markdown",
      "metadata": {
        "id": "view-in-github",
        "colab_type": "text"
      },
      "source": [
        "<a href=\"https://colab.research.google.com/github/yhoshua21/Introduction-PYTHON/blob/main/Yhoshuaintroduction.ipynb\" target=\"_parent\"><img src=\"https://colab.research.google.com/assets/colab-badge.svg\" alt=\"Open In Colab\"/></a>"
      ]
    },
    {
      "cell_type": "markdown",
      "source": [
        "# Mis Apuntes de Python\n",
        "### Fundamentos de Programacion 2024-20\n",
        "\n",
        "**Nombre:** Yhoshua Gonzalez\n",
        "\n",
        "**email:** yhoshua.gonzalez@upb.edu.co\n",
        "\n",
        "*Fecha de creacion:* 20 agosto, 2024\n",
        "\n"
      ],
      "metadata": {
        "id": "thPoE6qjr4fZ"
      }
    },
    {
      "cell_type": "markdown",
      "source": [
        "# 22 de agosto de 2024\n"
      ],
      "metadata": {
        "id": "ycmcMkMkp_ed"
      }
    },
    {
      "cell_type": "code",
      "source": [
        "# programa para el calculo de la utilidad en el negocio de venta de viviendas remodeladas\n",
        "\n",
        "# datos\n",
        "preciocompra = float(input(\"ingrese el precio de compra de la vivienda\"))\n",
        "costoremodelar = float(input(\"ingrese el costo de remodelacion de la vivienda\"))\n",
        "precioventa = float(input(\"ingrese el precio de venta de la vivienda\"))\n",
        "pcomision = float(input(\"ingrese el porcentaje de la comision (%):\")) / 100\n",
        "\n",
        "# preciocompra = 80\n",
        "# costoremodelar = 10\n",
        "# precioventa = 200\n",
        "# pcomision = 10 / 100\n",
        "\n",
        "# calculos\n",
        "comision = precioventa * pcomision\n",
        "utilidad = precioventa - (preciocompra + costoremodelar + comision)\n",
        "\n",
        "# resultados\n",
        "print(\"la utilidad de la venta de la vivienda fue de:\", utilidad)\n"
      ],
      "metadata": {
        "colab": {
          "base_uri": "https://localhost:8080/"
        },
        "id": "C0Rba9sT9CXB",
        "outputId": "5c4af551-771d-495d-e481-ef10c9fd6c4c"
      },
      "execution_count": null,
      "outputs": [
        {
          "output_type": "stream",
          "name": "stdout",
          "text": [
            "ingrese el precio de compra de la vivienda80\n",
            "ingrese el costo de remodelacion de la vivienda10\n",
            "ingrese el precio de venta de la vivienda100\n",
            "ingrese el porcentaje de la comision (%):10\n",
            "la utilidad de la venta de la vivienda fue de: 0.0\n"
          ]
        }
      ]
    },
    {
      "cell_type": "code",
      "source": [
        "# programa para calcular el area de un circulo\n",
        "pi = 3.1415592\n",
        "\n",
        "# datos\n",
        "radius = float(input(\"ingrese el valor del radio (m): \"))\n",
        "#calculos\n",
        "areacirc = pi * radius ** 2\n",
        "#resultados\n",
        "print(\"el area del circulo con radio \", radius, \"m es\", areacirc, \"m2.\" )\n"
      ],
      "metadata": {
        "colab": {
          "base_uri": "https://localhost:8080/"
        },
        "id": "9BUiA5TEB9ZG",
        "outputId": "87bf8246-c345-4f91-dd80-84479531d5e6"
      },
      "execution_count": null,
      "outputs": [
        {
          "output_type": "stream",
          "name": "stdout",
          "text": [
            "ingrese el valor del radio (m): 21\n",
            "el area del circulo con radio  21.0 m es 1385.4276072 m2.\n"
          ]
        }
      ]
    },
    {
      "cell_type": "code",
      "source": [
        "# programa para calcular las cantidades de muffins\n",
        "\n",
        "# datos\n",
        "leche = 24 # ml\n",
        "harina = 28 # g\n",
        "levadura = 3 # g\n",
        "sal = 0.25 # g\n",
        "azucar = 10 # g\n",
        "huevos = 0.2 # unidades\n",
        "mantequilla = 1.5 # g\n",
        "\n",
        "muffins = int(input(\"ingrese la cantidad de muffins a hacer: \"))\n",
        "\n",
        "print(\"para hacer\", muffins, \"muffins es necesario:\")\n",
        "print(\"- leche \", leche * muffins, \"ml\")\n",
        "print(\"- harina \", harina * muffins, \"g\")\n",
        "print(\"- levadura \", levadura * muffins, \"g\")\n",
        "print(\"- sal \", sal * muffins, \"g\")\n",
        "print(\"- azucar \", azucar * muffins, \"g\")\n",
        "print(\"- huevos \", huevos * muffins, \"unidades\")\n",
        "print(\"- mantequilla \", mantequilla * muffins, \"g\")\n",
        "\n"
      ],
      "metadata": {
        "colab": {
          "base_uri": "https://localhost:8080/"
        },
        "id": "UFom11JNHUpo",
        "outputId": "786d539f-cb00-4720-c968-40de8f5c17fa"
      },
      "execution_count": null,
      "outputs": [
        {
          "output_type": "stream",
          "name": "stdout",
          "text": [
            "ingrese la cantidad de muffins a hacer: 45\n",
            "para hacer 45 muffins es necesario:\n",
            "- leche  1080 ml\n",
            "- harina  1260 g\n",
            "- levadura  135 g\n",
            "- sal  11.25 g\n",
            "- azucar  450 g\n",
            "- huevos  9.0 unidades\n",
            "- mantequilla  67.5 g\n"
          ]
        }
      ]
    },
    {
      "cell_type": "markdown",
      "source": [],
      "metadata": {
        "id": "4PhmALEO5QAF"
      }
    },
    {
      "cell_type": "code",
      "source": [
        "# Mis primeros pasos con python\n",
        "\n",
        "print(\"Hola Mundo\")\n",
        "name = \"Yhoshua\"\n",
        "print(name)\n",
        "\n",
        "age = 19\n",
        "print(age)\n",
        "city =\"Cerete\"\n",
        "\n",
        "print(\"Hola, mi nombre es\", name, \"tengo\", age,\"años y soy de\", city)\n",
        "\n",
        "# Numeros\n",
        "a = 10\n",
        "b = 2.5\n",
        "c = a + b\n",
        "print(c)\n",
        "\n",
        "# Tipos de datos\n",
        "print(type(a))\n",
        "print(type(b))\n",
        "print(type(c))\n",
        "\n"
      ],
      "metadata": {
        "colab": {
          "base_uri": "https://localhost:8080/"
        },
        "id": "pNku3rC_r84B",
        "outputId": "14017bef-c31c-4444-b816-a134e787b844"
      },
      "execution_count": null,
      "outputs": [
        {
          "output_type": "stream",
          "name": "stdout",
          "text": [
            "Hola Mundo\n",
            "Yhoshua\n",
            "19\n",
            "Hola, mi nombre es Yhoshua tengo 19 años y soy de Cerete\n",
            "12.5\n",
            "<class 'int'>\n",
            "<class 'float'>\n",
            "<class 'float'>\n"
          ]
        }
      ]
    },
    {
      "cell_type": "code",
      "source": [
        "# Operaciones Matematicas Basicas\n",
        "print(3 + 2) # suma\n",
        "print(3 - 2) # resta\n",
        "print(3 * 2) # multiplicacion\n",
        "print(3 / 2) # division\n",
        "print(3 // 2) # division entera\n",
        "print(3 % 2) # modulo\n",
        "print(3 ** 2) # exponenciacion\n",
        "\n"
      ],
      "metadata": {
        "colab": {
          "base_uri": "https://localhost:8080/"
        },
        "id": "tuwEOx-Jw1lB",
        "outputId": "ebda9df8-af9c-4709-d8ab-a9b0f93dcd76"
      },
      "execution_count": null,
      "outputs": [
        {
          "output_type": "stream",
          "name": "stdout",
          "text": [
            "5\n",
            "1\n",
            "6\n",
            "1.5\n",
            "1\n",
            "1\n",
            "9\n"
          ]
        }
      ]
    },
    {
      "cell_type": "code",
      "source": [
        "# concatenacion\n",
        "\n",
        "name = \"Yhoshua\"\n",
        "lastname = \"Gonzalez\"\n",
        "fullname = name + \" \" + lastname\n",
        "print(\"-\" * 16)\n",
        "print(fullname)\n",
        "print(\"-\" * 16)\n",
        "\n"
      ],
      "metadata": {
        "colab": {
          "base_uri": "https://localhost:8080/"
        },
        "id": "SJULkp_x1MdZ",
        "outputId": "19def03f-4d8b-4bb2-8556-4a5d01377978"
      },
      "execution_count": null,
      "outputs": [
        {
          "output_type": "stream",
          "name": "stdout",
          "text": [
            "----------------\n",
            "Yhoshua Gonzalez\n",
            "----------------\n"
          ]
        }
      ]
    },
    {
      "cell_type": "code",
      "source": [
        "# incremntos\n",
        "\n",
        "a = 20\n",
        "print(\"a =\", a)\n",
        "b = 5\n",
        "a += b\n",
        "print(\"a =\", a)\n",
        "a -= b\n",
        "print(\"a =\", a)\n",
        "a *= b\n",
        "print(\"a =\", a)\n",
        "a /= b\n",
        "print(\"a =\", a)"
      ],
      "metadata": {
        "colab": {
          "base_uri": "https://localhost:8080/"
        },
        "id": "mqnDbOn223ZF",
        "outputId": "fef4ed65-8aec-4826-a108-303939247f0c"
      },
      "execution_count": null,
      "outputs": [
        {
          "output_type": "stream",
          "name": "stdout",
          "text": [
            "a = 20\n",
            "a = 25\n",
            "a = 20\n",
            "a = 100\n",
            "a = 20.0\n"
          ]
        }
      ]
    },
    {
      "cell_type": "code",
      "source": [
        "# multi-line\n",
        "\n",
        "song = \"\"\"\n",
        "Que paso con el que dijo que te amaba,\n",
        "acaso se fue y te ha dejado ilusionada.\n",
        "No me choca al saber que sola te quedas,\n",
        "yo te lo dije que te iban a pagar con la misma moneda\"\"\"\n",
        "print(song)\n"
      ],
      "metadata": {
        "colab": {
          "base_uri": "https://localhost:8080/"
        },
        "id": "E5Qezfeh4HHz",
        "outputId": "70ed0b65-a6bc-4a8f-beb4-d7e355ab3e05"
      },
      "execution_count": null,
      "outputs": [
        {
          "output_type": "stream",
          "name": "stdout",
          "text": [
            "\n",
            "Que paso con el que dijo que te amaba,\n",
            "acaso se fue y te ha dejado ilusionada.\n",
            "No me choca al saber que sola te quedas,\n",
            "yo te lo dije que te iban a pagar con la misma moneda\n"
          ]
        }
      ]
    },
    {
      "cell_type": "code",
      "source": [
        "# entradas de usuario\n",
        "\n",
        "a = int(input(\"Dime un numero: \"))\n",
        "b = int(input(\"Dime otro numero: \"))\n",
        "print(\"La suma es\", a + b)\n"
      ],
      "metadata": {
        "colab": {
          "base_uri": "https://localhost:8080/"
        },
        "id": "CJQKSobJ4zzw",
        "outputId": "3d4949c5-a2c1-4a7d-8449-6d8fee984d06"
      },
      "execution_count": null,
      "outputs": [
        {
          "output_type": "stream",
          "name": "stdout",
          "text": [
            "Dime un numero: 3\n",
            "Dime otro numero: 6\n",
            "La suma es 9\n"
          ]
        }
      ]
    },
    {
      "cell_type": "markdown",
      "source": [
        "# Sección nueva"
      ],
      "metadata": {
        "id": "x67ip62kqnHo"
      }
    }
  ]
}