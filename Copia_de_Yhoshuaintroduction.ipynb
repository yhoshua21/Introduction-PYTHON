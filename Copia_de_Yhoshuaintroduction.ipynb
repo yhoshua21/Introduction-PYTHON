{
  "nbformat": 4,
  "nbformat_minor": 0,
  "metadata": {
    "colab": {
      "provenance": [],
      "authorship_tag": "ABX9TyMaPx+cMWPzpsmvbc5bLaQG",
      "include_colab_link": true
    },
    "kernelspec": {
      "name": "python3",
      "display_name": "Python 3"
    },
    "language_info": {
      "name": "python"
    }
  },
  "cells": [
    {
      "cell_type": "markdown",
      "metadata": {
        "id": "view-in-github",
        "colab_type": "text"
      },
      "source": [
        "<a href=\"https://colab.research.google.com/github/yhoshua21/Introduction-PYTHON/blob/main/Copia_de_Yhoshuaintroduction.ipynb\" target=\"_parent\"><img src=\"https://colab.research.google.com/assets/colab-badge.svg\" alt=\"Open In Colab\"/></a>"
      ]
    },
    {
      "cell_type": "markdown",
      "source": [
        "# Mis Apuntes de Python\n",
        "### Fundamentos de Programacion 2024-20\n",
        "\n",
        "**Nombre:** Yhoshua Gonzalez\n",
        "\n",
        "**email:** yhoshua.gonzalez@upb.edu.co\n",
        "\n",
        "*Fecha de creacion:* 20 agosto, 2024\n",
        "\n"
      ],
      "metadata": {
        "id": "thPoE6qjr4fZ"
      }
    },
    {
      "cell_type": "code",
      "source": [
        "# Mis primeros pasos con python\n",
        "\n",
        "print(\"Hola Mundo\")\n",
        "name = \"Yhoshua\"\n",
        "print(name)\n",
        "\n",
        "age = 19\n",
        "print(age)\n",
        "city =\"Cerete\"\n",
        "\n",
        "print(\"Hola, mi nombre es\", name, \"tengo\", age,\"años y soy de\", city)\n",
        "\n",
        "# Numeros\n",
        "a = 10\n",
        "b = 2.5\n",
        "c = a + b\n",
        "print(c)\n",
        "\n",
        "# Tipos de datos\n",
        "print(type(a))\n",
        "print(type(b))\n",
        "print(type(c))\n",
        "\n"
      ],
      "metadata": {
        "colab": {
          "base_uri": "https://localhost:8080/"
        },
        "id": "pNku3rC_r84B",
        "outputId": "14017bef-c31c-4444-b816-a134e787b844"
      },
      "execution_count": null,
      "outputs": [
        {
          "output_type": "stream",
          "name": "stdout",
          "text": [
            "Hola Mundo\n",
            "Yhoshua\n",
            "19\n",
            "Hola, mi nombre es Yhoshua tengo 19 años y soy de Cerete\n",
            "12.5\n",
            "<class 'int'>\n",
            "<class 'float'>\n",
            "<class 'float'>\n"
          ]
        }
      ]
    },
    {
      "cell_type": "code",
      "source": [
        "# Operaciones Matematicas Basicas\n",
        "print(3 + 2) # suma\n",
        "print(3 - 2) # resta\n",
        "print(3 * 2) # multiplicacion\n",
        "print(3 / 2) # division\n",
        "print(3 // 2) # division entera\n",
        "print(3 % 2) # modulo\n",
        "print(3 ** 2) # exponenciacion\n",
        "\n"
      ],
      "metadata": {
        "colab": {
          "base_uri": "https://localhost:8080/"
        },
        "id": "tuwEOx-Jw1lB",
        "outputId": "ebda9df8-af9c-4709-d8ab-a9b0f93dcd76"
      },
      "execution_count": null,
      "outputs": [
        {
          "output_type": "stream",
          "name": "stdout",
          "text": [
            "5\n",
            "1\n",
            "6\n",
            "1.5\n",
            "1\n",
            "1\n",
            "9\n"
          ]
        }
      ]
    },
    {
      "cell_type": "code",
      "source": [
        "# concatenacion\n",
        "\n",
        "name = \"Yhoshua\"\n",
        "lastname = \"Gonzalez\"\n",
        "fullname = name + \" \" + lastname\n",
        "print(\"-\" * 16)\n",
        "print(fullname)\n",
        "print(\"-\" * 16)\n",
        "\n"
      ],
      "metadata": {
        "colab": {
          "base_uri": "https://localhost:8080/"
        },
        "id": "SJULkp_x1MdZ",
        "outputId": "19def03f-4d8b-4bb2-8556-4a5d01377978"
      },
      "execution_count": null,
      "outputs": [
        {
          "output_type": "stream",
          "name": "stdout",
          "text": [
            "----------------\n",
            "Yhoshua Gonzalez\n",
            "----------------\n"
          ]
        }
      ]
    },
    {
      "cell_type": "code",
      "source": [
        "# incremntos\n",
        "\n",
        "a = 20\n",
        "print(\"a =\", a)\n",
        "b = 5\n",
        "a += b\n",
        "print(\"a =\", a)\n",
        "a -= b\n",
        "print(\"a =\", a)\n",
        "a *= b\n",
        "print(\"a =\", a)\n",
        "a /= b\n",
        "print(\"a =\", a)"
      ],
      "metadata": {
        "colab": {
          "base_uri": "https://localhost:8080/"
        },
        "id": "mqnDbOn223ZF",
        "outputId": "fef4ed65-8aec-4826-a108-303939247f0c"
      },
      "execution_count": null,
      "outputs": [
        {
          "output_type": "stream",
          "name": "stdout",
          "text": [
            "a = 20\n",
            "a = 25\n",
            "a = 20\n",
            "a = 100\n",
            "a = 20.0\n"
          ]
        }
      ]
    },
    {
      "cell_type": "code",
      "source": [
        "# multi-line\n",
        "\n",
        "song = \"\"\"\n",
        "Que paso con el que dijo que te amaba,\n",
        "acaso se fue y te ha dejado ilusionada.\n",
        "No me choca al saber que sola te quedas,\n",
        "yo te lo dije que te iban a pagar con la misma moneda\"\"\"\n",
        "print(song)\n"
      ],
      "metadata": {
        "colab": {
          "base_uri": "https://localhost:8080/"
        },
        "id": "E5Qezfeh4HHz",
        "outputId": "70ed0b65-a6bc-4a8f-beb4-d7e355ab3e05"
      },
      "execution_count": null,
      "outputs": [
        {
          "output_type": "stream",
          "name": "stdout",
          "text": [
            "\n",
            "Que paso con el que dijo que te amaba,\n",
            "acaso se fue y te ha dejado ilusionada.\n",
            "No me choca al saber que sola te quedas,\n",
            "yo te lo dije que te iban a pagar con la misma moneda\n"
          ]
        }
      ]
    },
    {
      "cell_type": "code",
      "source": [
        "# entradas de usuario\n",
        "\n",
        "a = int(input(\"Dime un numero: \"))\n",
        "b = int(input(\"Dime otro numero: \"))\n",
        "print(\"La suma es\", a + b)\n"
      ],
      "metadata": {
        "colab": {
          "base_uri": "https://localhost:8080/"
        },
        "id": "CJQKSobJ4zzw",
        "outputId": "3d4949c5-a2c1-4a7d-8449-6d8fee984d06"
      },
      "execution_count": null,
      "outputs": [
        {
          "output_type": "stream",
          "name": "stdout",
          "text": [
            "Dime un numero: 3\n",
            "Dime otro numero: 6\n",
            "La suma es 9\n"
          ]
        }
      ]
    }
  ]
}