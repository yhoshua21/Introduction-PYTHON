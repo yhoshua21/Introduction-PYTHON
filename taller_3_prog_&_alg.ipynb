{
  "nbformat": 4,
  "nbformat_minor": 0,
  "metadata": {
    "colab": {
      "provenance": [],
      "toc_visible": true,
      "authorship_tag": "ABX9TyOsUIz+MjeYS387ecSKCy5a",
      "include_colab_link": true
    },
    "kernelspec": {
      "name": "python3",
      "display_name": "Python 3"
    },
    "language_info": {
      "name": "python"
    }
  },
  "cells": [
    {
      "cell_type": "markdown",
      "metadata": {
        "id": "view-in-github",
        "colab_type": "text"
      },
      "source": [
        "<a href=\"https://colab.research.google.com/github/yhoshua21/Introduction-PYTHON/blob/main/taller_3_prog_%26_alg.ipynb\" target=\"_parent\"><img src=\"https://colab.research.google.com/assets/colab-badge.svg\" alt=\"Open In Colab\"/></a>"
      ]
    },
    {
      "cell_type": "markdown",
      "source": [
        "algoritmo para calcular la tarifa de un taxi\n",
        "\n",
        "1. iniciar\n",
        "2. obtener la distancia recorrida en km\n",
        "3. obtener el tiempo de detencion en minutos\n",
        "4. obtener la hora de inicio de viaje en horas\n",
        "5. la tarifa base es 6000; si el recorrido es <= 5 km la tarifa es de (1500 * km), si el recorrido es >= 6 km y <= 15 km la tarifa es de (1200 * km) y si el recorrido es > 15 km la tarifa sera (1000 * km)\n",
        "6. la tarifa por tiempo de detencion es 400 * minuto\n",
        "7. si el viaje es nocturno el recargo es de 20% sobre el valor total, esto si el viaje ocurre entre las 22:00 y las 6:00\n",
        "8. mostrar total\n",
        "9. finalizar\n",
        "\n",
        "```\n",
        "start\n",
        "//PROGRAMA PARA CALCULAR LA TARIFA DE UN TAXI\n",
        "\n",
        "//DECLARACIÓN DE VARIABLES\n",
        "declare float distancia\n",
        "declare float tiempo_detencion\n",
        "declare float hora_inicio\n",
        "declare float tarifabase = 6000\n",
        "declare float tarfifatiempodetencion= 0\n",
        "declare float total = 0\n",
        "\n",
        "//INGRESO DE DATOS\n",
        "display \"Ingrese la distancia recorrida en kilometros:\"\n",
        "Input distancia\n",
        "display \"ingrese el tiempo de detencion en minutos:\"\n",
        "Input tiempo_detencion\n",
        "display \"Ingrese la hora de inicio del viaje:\"\n",
        "Input hora_inicio\n",
        "\n",
        "//CALCULOS DEL COSTO POR DISTANCIA\n",
        "IF distancia >0 AND distancia <= 5 then\n",
        "  set total = tarifabase + (distancia*1500)\n",
        "Else If distancia >= 6 and distancia <=15 then\n",
        "  set total = tarifabase + (5*1500) + 1200*(distancia -5)\n",
        "Else If distancia > 15 then\n",
        "  set toal = tarifabase + (5*1500) + 1200*(10) + 1000*(distancia-15)\n",
        "Else\n",
        "  display \"DISTANCIA INVALIDA\"\n",
        "END IF\n",
        "\n",
        "//CALCULO TARIFA POR TIEMPO DETENCION\n",
        "If tiempo_detencion > 0 then\n",
        "  set total = total + (tiempo_detencion * tarifatiempodetencion)\n",
        "END IF\n",
        "\n",
        "//CALCULO TARIFA POR HORA NOCTURNA\n",
        "If hora_inicio >= 22 and hora_inicio <=23 then\n",
        "set total = total + (hora_inicio*0.2)\n",
        "Else If hora inicio >=1 and hora_inicio < 6 then\n",
        "Set total = total + (hora_inicio*0.2)\n",
        "END IF\n",
        "\n",
        "//MOSTRAR RESULTADOS\n",
        "  display \"El costo total del viaje es:\", total\n",
        "\n",
        "End\n",
        "````"
      ],
      "metadata": {
        "id": "Hxk9QwLBVfd2"
      }
    }
  ]
}